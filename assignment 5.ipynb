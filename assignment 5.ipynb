{
 "cells": [
  {
   "cell_type": "code",
   "execution_count": null,
   "metadata": {},
   "outputs": [],
   "source": []
  },
  {
   "cell_type": "markdown",
   "metadata": {},
   "source": [
    "# Computer Exercise 1"
   ]
  },
  {
   "cell_type": "code",
   "execution_count": 1,
   "metadata": {},
   "outputs": [],
   "source": [
    "import numpy as np\n",
    "def G(row_s, Temp):\n",
    "    return np.exp((1/Temp) * np.sum(row_s[:-1] * row_s[1:]))"
   ]
  },
  {
   "cell_type": "markdown",
   "metadata": {},
   "source": [
    "# Computer Exercise 2"
   ]
  },
  {
   "cell_type": "code",
   "execution_count": 2,
   "metadata": {},
   "outputs": [],
   "source": [
    "import numpy as np\n",
    "def F(row_s, row_t, Temp):\n",
    "    return np.exp((1/Temp) * np.sum(row_s * row_t))"
   ]
  },
  {
   "cell_type": "markdown",
   "metadata": {},
   "source": [
    "# Computer Exercise 3"
   ]
  },
  {
   "cell_type": "code",
   "execution_count": 3,
   "metadata": {},
   "outputs": [
    {
     "name": "stdout",
     "output_type": "stream",
     "text": [
      "Lattice: 2x2\n",
      "Temp = 1,\tZ_Temp = 121.23293134406595\n",
      "Temp = 1.5,\tZ_Temp = 40.922799092745386\n",
      "Temp = 2,\tZ_Temp = 27.048782764334526\n"
     ]
    }
   ],
   "source": [
    "import numpy as np\n",
    "n=2\n",
    "print('Lattice: {}x{}'.format(n,n))\n",
    "temperatures=[1,1.5,2]\n",
    "for Temp in temperatures:\n",
    "    sum = 0\n",
    "    for a in [-1, 1]:\n",
    "        for b in [-1,1]:\n",
    "            for c in [-1,1]:\n",
    "                for d in [-1, 1]:\n",
    "                    sum += np.exp((a*b + b*d + d*c + c*a)/Temp)\n",
    "    Z_Temp = sum\n",
    "    print (\"Temp = {},\\tZ_Temp = {}\".format(Temp, Z_Temp))"
   ]
  },
  {
   "cell_type": "markdown",
   "metadata": {},
   "source": [
    "# Computer Exercise 4"
   ]
  },
  {
   "cell_type": "code",
   "execution_count": 4,
   "metadata": {},
   "outputs": [
    {
     "name": "stdout",
     "output_type": "stream",
     "text": [
      "Lattice: 3x3\n",
      "Temp = 1,\tZ_Temp = 365645.74913577037\n",
      "Temp = 1.5,\tZ_Temp = 10565.421983514265\n",
      "Temp = 2,\tZ_Temp = 2674.518123060087\n"
     ]
    }
   ],
   "source": [
    "import numpy as np\n",
    "temperatures=[1,1.5,2]\n",
    "n=3\n",
    "print('Lattice: {}x{}'.format(n,n))\n",
    "for Temp in temperatures:\n",
    "    sum_over_configures = 0\n",
    "    for a1 in [-1, 1]:\n",
    "        for a2 in [-1,1]:\n",
    "            for a3 in [-1,1]:\n",
    "                for a4 in [-1, 1]:\n",
    "                    for a5 in [-1, 1]:\n",
    "                        for a6 in [-1, 1]:\n",
    "                            for a7 in [-1, 1]:\n",
    "                                for a8 in [-1, 1]:\n",
    "                                    for a9 in [-1, 1]:\n",
    "                                        sum_over_neighbors = (a1*a2 + a2*a3\n",
    "                                                              + a4*a5 + a5*a6\n",
    "                                                              + a7*a8 + a8*a9\n",
    "                                                             + a1*a4 + a4*a7\n",
    "                                                             + a2*a5 + a5*a8\n",
    "                                                             + a3*a6 + a6*a9)\n",
    "                                        sum_over_configures += np.exp(sum_over_neighbors/Temp)\n",
    "    Z_Temp = sum_over_configures\n",
    "    print (\"Temp = {},\\tZ_Temp = {}\".format(Temp, Z_Temp))"
   ]
  },
  {
   "cell_type": "markdown",
   "metadata": {},
   "source": [
    "# Computer Exercise 5"
   ]
  },
  {
   "cell_type": "code",
   "execution_count": 5,
   "metadata": {},
   "outputs": [],
   "source": [
    "import numpy as np\n",
    "def y2row(y,width=8):\n",
    "    # COMPUTES Y --> (x_1, ..., x_8)\n",
    "    \"\"\"\n",
    "    y: an integer in (0,...,(2**width)-1)\n",
    "    \"\"\"\n",
    "    if not 0<=y<=(2**width)-1:\n",
    "        raise ValueError(y)\n",
    "    my_str=np.binary_repr(y,width=width)\n",
    "    # my_list = map(int,my_str) # Python 2\n",
    "    my_list = list(map(int,my_str)) # Python 3\n",
    "    my_array = np.asarray(my_list)\n",
    "    my_array[my_array==0]=-1\n",
    "    row=my_array\n",
    "    return row"
   ]
  },
  {
   "cell_type": "code",
   "execution_count": 6,
   "metadata": {
    "scrolled": true
   },
   "outputs": [
    {
     "name": "stdout",
     "output_type": "stream",
     "text": [
      "Lattice: 2x2\n",
      "Temp = 1,\tZ_Temp = 121.23293134406595\n",
      "Temp = 1.5,\tZ_Temp = 40.922799092745386\n",
      "Temp = 2,\tZ_Temp = 27.048782764334526\n"
     ]
    }
   ],
   "source": [
    "import numpy as np\n",
    "temperatures=[1,1.5,2]\n",
    "n=2\n",
    "print('Lattice: {}x{}'.format(n,n))\n",
    "y_values=np.arange(2**n)\n",
    "for Temp in temperatures:\n",
    "    sum_over_y = 0\n",
    "    for y1 in y_values:\n",
    "        for y2 in y_values:\n",
    "            sum_over_y += (G(y2row(y1, width=2), Temp)\n",
    "                          * G(y2row(y2, width=2), Temp)\n",
    "                          * F(y2row(y1, width=2), y2row(y2, width=2), Temp))\n",
    "    Z_Temp = sum_over_y\n",
    "    print (\"Temp = {},\\tZ_Temp = {}\".format(Temp, Z_Temp))"
   ]
  },
  {
   "cell_type": "markdown",
   "metadata": {},
   "source": [
    "# Computer Exercise 6"
   ]
  },
  {
   "cell_type": "code",
   "execution_count": 7,
   "metadata": {
    "scrolled": true
   },
   "outputs": [
    {
     "name": "stdout",
     "output_type": "stream",
     "text": [
      "Lattice: 3x3\n",
      "Temp = 1,\tZ_Temp = 365645.7491357704\n",
      "Temp = 1.5,\tZ_Temp = 10565.421983514265\n",
      "Temp = 2,\tZ_Temp = 2674.518123060087\n"
     ]
    }
   ],
   "source": [
    "import numpy as np\n",
    "temperatures=[1,1.5,2]\n",
    "n=3\n",
    "print('Lattice: {}x{}'.format(n,n))\n",
    "y_values=np.arange(2**n)\n",
    "for Temp in temperatures:\n",
    "    sum_over_y = 0\n",
    "    for y1 in y_values:\n",
    "        for y2 in y_values:\n",
    "            for y3 in y_values:\n",
    "                sum_over_y += (G(y2row(y1, width=n), Temp)\n",
    "                          * G(y2row(y2, width=n), Temp)\n",
    "                          * G(y2row(y3, width=n), Temp)\n",
    "                          * F(y2row(y1, width=n), y2row(y2, width=n), Temp)\n",
    "                          * F(y2row(y2, width=n), y2row(y3, width=n), Temp))\n",
    "    Z_Temp = sum_over_y\n",
    "    print (\"Temp = {},\\tZ_Temp = {}\".format(Temp, Z_Temp))"
   ]
  },
  {
   "cell_type": "markdown",
   "metadata": {},
   "source": [
    "# Computer Exercise 7"
   ]
  },
  {
   "cell_type": "markdown",
   "metadata": {},
   "source": [
    "## $3\\times3$ lattice"
   ]
  },
  {
   "cell_type": "markdown",
   "metadata": {},
   "source": [
    "### Calculating $F_{\\text{arr}}$ and $G_{\\text{arr}}$"
   ]
  },
  {
   "cell_type": "code",
   "execution_count": 8,
   "metadata": {},
   "outputs": [],
   "source": [
    "import numpy as np\n",
    "n=3\n",
    "\n",
    "# Modify here ↑\n",
    "temperatures=np.array([1, 1.5, 2])\n",
    "F_arr = np.zeros((temperatures.size, 2**n ,2 ** n))\n",
    "G_arr = np.zeros((temperatures.size, 2**n))\n",
    "for tempNum,Temp in enumerate(temperatures):\n",
    "    F_Temp = np.empty((2**n, 2**n))\n",
    "    G_Temp = np.empty(2**n)\n",
    "    \n",
    "    for i, y1 in enumerate(np.arange(2**n)):\n",
    "        g = G(y2row(y1, width=n), Temp)\n",
    "        G_Temp[i] = g\n",
    "        f = F(y2row(y1, width=n), y2row(y1, width=n), Temp=Temp)\n",
    "        F_Temp[i, i] = f\n",
    "        for j, y2 in enumerate (np.arange(2**n)[:i]):\n",
    "            f = F(y2row(y1, width=n), y2row(y2, width=n), Temp=Temp)\n",
    "            F_Temp[i, j] = f\n",
    "            F_Temp[j, i] = f\n",
    "    F_arr[tempNum] = F_Temp\n",
    "    G_arr[tempNum] = G_Temp"
   ]
  },
  {
   "cell_type": "markdown",
   "metadata": {},
   "source": [
    "### Caculating $T_k$'s"
   ]
  },
  {
   "cell_type": "code",
   "execution_count": 9,
   "metadata": {
    "scrolled": true
   },
   "outputs": [
    {
     "name": "stdout",
     "output_type": "stream",
     "text": [
      "Lattice: 3x3\n",
      "Temp = 1.0,\tZ_Temp = 365645.7491357699\n",
      "Temp = 1.5,\tZ_Temp = 10565.421983514234\n",
      "Temp = 2.0,\tZ_Temp = 2674.5181230600847\n"
     ]
    }
   ],
   "source": [
    "T1 = np.empty((temperatures.size, 2**n))\n",
    "T2 = np.empty((temperatures.size, 2**n))\n",
    "T3 = np.empty(temperatures.size)\n",
    "\n",
    "# Modify here ↑\n",
    "Z_Temp = np.empty(temperatures.size)\n",
    "for tempNum,Temp in enumerate(temperatures):\n",
    "    F_Temp = F_arr[tempNum]\n",
    "    G_Temp = G_arr[tempNum]\n",
    "    \n",
    "    T1_Temp = np.vectorize(lambda y2: np.sum(np.vectorize(lambda y1, y2:             G_Temp[y1]*F_Temp[y1, y2])(np.arange(2**n),y2)))(np.arange(2**n))\n",
    "    T2_Temp = np.vectorize(lambda y3: np.sum(np.vectorize(lambda y2, y3: T1_Temp[y2]*G_Temp[y2]*F_Temp[y2, y3])(np.arange(2**n),y3)))(np.arange(2**n))\n",
    "    T3_Temp = np.sum(np.vectorize(lambda y3: T2_Temp[y3]*G_Temp[y3])(np.arange(2**n)))\n",
    "    \n",
    "    \n",
    "    # Modify here ↑\n",
    "    T1[tempNum] = T1_Temp\n",
    "    T2[tempNum] = T2_Temp\n",
    "    T3[tempNum] = T3_Temp\n",
    "    \n",
    "    # Modify here ↑\n",
    "    Z_Temp[tempNum]=T3_Temp\n",
    "    \n",
    "    # Modify here ↑\n",
    "print('Lattice: {n}x{n}'.format(n=n))\n",
    "for tempNum,Temp in enumerate(temperatures):\n",
    "    print (\"Temp = {},\\tZ_Temp = {}\".format(Temp, Z_Temp[tempNum]))"
   ]
  },
  {
   "cell_type": "markdown",
   "metadata": {},
   "source": [
    "### Calculating $p$'s"
   ]
  },
  {
   "cell_type": "code",
   "execution_count": 10,
   "metadata": {},
   "outputs": [],
   "source": [
    "p3 = np.empty((temperatures.size, 2**n))\n",
    "p2_3 = np.empty((temperatures.size, 2**n, 2**n))\n",
    "p1_2 = np.empty((temperatures.size, 2**n, 2**n))\n",
    "\n",
    "# Modify here ↑\n",
    "for tempNum,Temp in enumerate(temperatures):\n",
    "    T1_Temp = T1[tempNum]\n",
    "    T2_Temp = T2[tempNum]\n",
    "    \n",
    "    # Modify here ↑\n",
    "    F_Temp = F_arr[tempNum]\n",
    "    G_Temp = G_arr[tempNum]\n",
    "    \n",
    "    p3_Temp = np.empty(2**n)\n",
    "    p2_3_Temp = np.empty((2**n,2**n))\n",
    "    p1_2_Temp = np.empty((2**n,2**n))\n",
    "    \n",
    "    # Modify here ↑\n",
    "    for yk1 in np.arange(2**n):\n",
    "        for yk in np.arange(2**n):\n",
    "            p3_Temp[yk1] = (T2_Temp[yk1]*G_Temp[yk1])/Z_Temp[tempNum]\n",
    "            p2_3_Temp[yk,yk1]=(T1_Temp[yk]*G_Temp[yk]*F_Temp[yk,yk1])/T2_Temp[yk1]\n",
    "            p1_2_Temp[yk,yk1]=(G_Temp[yk]*F_Temp[yk,yk1])/T1_Temp[yk1]\n",
    "            \n",
    "            # Modify here ↑\n",
    "    \n",
    "    p3[tempNum] = p3_Temp\n",
    "    p2_3[tempNum] = p2_3_Temp\n",
    "    p1_2[tempNum] = p1_2_Temp\n",
    "    \n",
    "    # Modify here ↑"
   ]
  },
  {
   "cell_type": "markdown",
   "metadata": {},
   "source": [
    "## $8\\times8$ lattice"
   ]
  },
  {
   "cell_type": "markdown",
   "metadata": {},
   "source": [
    "### Calculating $F_{\\text{arr}}$ and $G_{\\text{arr}}$"
   ]
  },
  {
   "cell_type": "code",
   "execution_count": 11,
   "metadata": {},
   "outputs": [],
   "source": [
    "import numpy as np\n",
    "n=8\n",
    "# Modify here ↑\n",
    "temperatures=np.array([1, 1.5, 2])\n",
    "F_arr = np.zeros((temperatures.size, 2**n ,2 ** n))\n",
    "G_arr = np.zeros((temperatures.size, 2**n))\n",
    "for tempNum,Temp in enumerate(temperatures):\n",
    "    F_Temp = np.empty((2**n, 2**n))\n",
    "    G_Temp = np.empty(2**n)\n",
    "    \n",
    "    for i, y1 in enumerate(np.arange(2**n)):\n",
    "        g = G(y2row(y1, width=n), Temp)\n",
    "        G_Temp[i] = g\n",
    "        f = F(y2row(y1, width=n), y2row(y1, width=n), Temp=Temp)\n",
    "        F_Temp[i, i] = f\n",
    "        for j, y2 in enumerate (np.arange(2**n)[:i]):\n",
    "            f = F(y2row(y1, width=n), y2row(y2, width=n), Temp=Temp)\n",
    "            F_Temp[i, j] = f\n",
    "            F_Temp[j, i] = f\n",
    "    F_arr[tempNum] = F_Temp\n",
    "    G_arr[tempNum] = G_Temp"
   ]
  },
  {
   "cell_type": "markdown",
   "metadata": {},
   "source": [
    "### Caculating $T_k$'s"
   ]
  },
  {
   "cell_type": "code",
   "execution_count": 12,
   "metadata": {
    "scrolled": true
   },
   "outputs": [
    {
     "name": "stdout",
     "output_type": "stream",
     "text": [
      "Lattice: 8x8\n",
      "Temp = 1.0,\tZ_Temp = 2.7629078129225936e+16\n",
      "Temp = 1.5,\tZ_Temp = 302622898712.01154\n",
      "Temp = 2.0,\tZ_Temp = 3233561992.1892643\n"
     ]
    }
   ],
   "source": [
    "T1 = np.empty((temperatures.size, 2**n))\n",
    "T2 = np.empty((temperatures.size, 2**n))\n",
    "T3 = np.empty((temperatures.size, 2**n))\n",
    "T4 = np.empty((temperatures.size, 2**n))\n",
    "T5 = np.empty((temperatures.size, 2**n))\n",
    "T6 = np.empty((temperatures.size, 2**n))\n",
    "T7 = np.empty((temperatures.size, 2**n))\n",
    "T8 = np.empty(temperatures.size)\n",
    "\n",
    "# Modify here ↑\n",
    "Z_Temp = np.empty(temperatures.size)\n",
    "for tempNum,Temp in enumerate(temperatures):\n",
    "    F_Temp = F_arr[tempNum]\n",
    "    G_Temp = G_arr[tempNum]\n",
    "    \n",
    "    T1_Temp = (np.vectorize(lambda y2: np.sum(np.vectorize(lambda y1, y2: G_Temp[y1]*F_Temp[y1, y2])(np.arange(2**n),y2)))(np.arange(2**n)))\n",
    "    # Do not change the above.\n",
    "    T2_Temp = (np.vectorize(lambda y3: np.sum(np.vectorize(lambda y2, y3: T1_Temp[y2]*G_Temp[y2]*F_Temp[y2, y3])(np.arange(2**n),y3)))(np.arange(2**n)))\n",
    "    T3_Temp = (np.vectorize(lambda y4: np.sum(np.vectorize(lambda y3, y4: T2_Temp[y3]*G_Temp[y3]*F_Temp[y3, y4])(np.arange(2**n),y4)))(np.arange(2**n)))\n",
    "    T4_Temp = (np.vectorize(lambda y5: np.sum(np.vectorize(lambda y4, y5: T3_Temp[y4]*G_Temp[y4]*F_Temp[y4, y5])(np.arange(2**n),y5)))(np.arange(2**n)))\n",
    "    T5_Temp = (np.vectorize(lambda y6: np.sum(np.vectorize(lambda y5, y6: T4_Temp[y5]*G_Temp[y5]*F_Temp[y5, y6])(np.arange(2**n),y6)))(np.arange(2**n)))\n",
    "    T6_Temp = (np.vectorize(lambda y7: np.sum(np.vectorize(lambda y6, y7: T5_Temp[y6]*G_Temp[y6]*F_Temp[y6, y7])(np.arange(2**n),y7)))(np.arange(2**n)))\n",
    "    T7_Temp = (np.vectorize(lambda y8: np.sum(np.vectorize(lambda y7, y8: T6_Temp[y7]*G_Temp[y7]*F_Temp[y7, y8])(np.arange(2**n),y8)))(np.arange(2**n)))\n",
    "    # Add, don't change.\n",
    "    T8_Temp = np.sum(np.vectorize(lambda y8: T2_Temp[y8]*G_Temp[y8])(np.arange(2**n)))\n",
    "    # Change the above\n",
    "    T1[tempNum] = T1_Temp\n",
    "    T2[tempNum] = T2_Temp\n",
    "    T3[tempNum] = T3_Temp\n",
    "    T4[tempNum] = T4_Temp\n",
    "    T5[tempNum] = T5_Temp\n",
    "    T6[tempNum] = T6_Temp\n",
    "    T7[tempNum] = T7_Temp\n",
    "    T8[tempNum] = T8_Temp\n",
    "    \n",
    "    # Add here ↑\n",
    "    Z_Temp[tempNum]=T8_Temp\n",
    "    \n",
    "    # Modify here ↑\n",
    "print('Lattice: {n}x{n}'.format(n=n))\n",
    "for tempNum,Temp in enumerate(temperatures):\n",
    "    print (\"Temp = {},\\tZ_Temp = {}\".format(Temp, Z_Temp[tempNum]))"
   ]
  },
  {
   "cell_type": "markdown",
   "metadata": {},
   "source": [
    "### Calculating $p$'s"
   ]
  },
  {
   "cell_type": "code",
   "execution_count": 13,
   "metadata": {},
   "outputs": [],
   "source": [
    "p8 = np.empty((temperatures.size, 2**n))\n",
    "p7_8 = np.empty((temperatures.size, 2**n, 2**n))\n",
    "p6_7 = np.empty((temperatures.size, 2**n, 2**n))\n",
    "p5_6 = np.empty((temperatures.size, 2**n, 2**n))\n",
    "p4_5 = np.empty((temperatures.size, 2**n, 2**n))\n",
    "p3_4 = np.empty((temperatures.size, 2**n, 2**n))\n",
    "p2_3 = np.empty((temperatures.size, 2**n, 2**n))\n",
    "p1_2 = np.empty((temperatures.size, 2**n, 2**n))\n",
    "\n",
    "# Modify here ↑\n",
    "for tempNum,Temp in enumerate(temperatures):\n",
    "    T1_Temp = T1[tempNum]\n",
    "    T2_Temp = T2[tempNum]\n",
    "    T3_Temp = T3[tempNum]\n",
    "    T4_Temp = T4[tempNum]\n",
    "    T5_Temp = T5[tempNum]\n",
    "    T6_Temp = T6[tempNum]\n",
    "    T7_Temp = T7[tempNum]\n",
    "    \n",
    "    # Add here ↑\n",
    "    F_Temp = F_arr[tempNum]\n",
    "    G_Temp = G_arr[tempNum]\n",
    "    \n",
    "    p8_Temp = np.empty(2**n)\n",
    "    p7_8_Temp = np.empty((2**n,2**n))\n",
    "    p6_7_Temp = np.empty((2**n,2**n))\n",
    "    p5_6_Temp = np.empty((2**n,2**n))\n",
    "    p4_5_Temp = np.empty((2**n,2**n))\n",
    "    p3_4_Temp = np.empty((2**n,2**n))\n",
    "    p2_3_Temp = np.empty((2**n,2**n))\n",
    "    p1_2_Temp = np.empty((2**n,2**n))\n",
    "    \n",
    "    # Modify here ↑\n",
    "    for yk1 in np.arange(2**n):\n",
    "        for yk in np.arange(2**n):\n",
    "            p8_Temp[yk1] = (T7_Temp[yk1]*G_Temp[yk1])/Z_Temp[tempNum]\n",
    "            p7_8_Temp[yk,yk1]=(T6_Temp[yk]*G_Temp[yk]*F_Temp[yk,yk1])/T7_Temp[yk1]\n",
    "            p6_7_Temp[yk,yk1]=(T5_Temp[yk]*G_Temp[yk]*F_Temp[yk,yk1])/T6_Temp[yk1]\n",
    "            p5_6_Temp[yk,yk1]=(T4_Temp[yk]*G_Temp[yk]*F_Temp[yk,yk1])/T5_Temp[yk1]\n",
    "            p4_5_Temp[yk,yk1]=(T3_Temp[yk]*G_Temp[yk]*F_Temp[yk,yk1])/T4_Temp[yk1]\n",
    "            p3_4_Temp[yk,yk1]=(T2_Temp[yk]*G_Temp[yk]*F_Temp[yk,yk1])/T3_Temp[yk1]\n",
    "            p2_3_Temp[yk,yk1]=(T1_Temp[yk]*G_Temp[yk]*F_Temp[yk,yk1])/T2_Temp[yk1]\n",
    "            # Modify here ↑\n",
    "            p1_2_Temp[yk,yk1]=(G_Temp[yk]*F_Temp[yk,yk1])/T1_Temp[yk1]\n",
    "            \n",
    "    p8[tempNum] = p8_Temp\n",
    "    p7_8[tempNum] = p7_8_Temp\n",
    "    p6_7[tempNum] = p6_7_Temp\n",
    "    p5_6[tempNum] = p5_6_Temp\n",
    "    p4_5[tempNum] = p4_5_Temp\n",
    "    p3_4[tempNum] = p3_4_Temp\n",
    "    p2_3[tempNum] = p2_3_Temp\n",
    "    p1_2[tempNum] = p1_2_Temp\n",
    "    \n",
    "    # Modify here ↑"
   ]
  },
  {
   "cell_type": "markdown",
   "metadata": {},
   "source": [
    "### Sampling"
   ]
  },
  {
   "cell_type": "code",
   "execution_count": 14,
   "metadata": {},
   "outputs": [],
   "source": [
    "def draw(arr):\n",
    "    return np.random.choice(a=np.arange(2**n), p=arr/np.sum(arr))"
   ]
  },
  {
   "cell_type": "code",
   "execution_count": 15,
   "metadata": {},
   "outputs": [],
   "source": [
    "def sample(number_of_tempratures = 3, number_of_figures_for_each_temp=10, n = 8):\n",
    "    samples = np.empty((number_of_tempratures, number_of_figures_for_each_temp, n, n))\n",
    "\n",
    "    for tempNum,Temp in enumerate(temperatures[:number_of_tempratures]):\n",
    "        for fig_num in np.arange(number_of_figures_for_each_temp):\n",
    "            y8 = draw(p8[tempNum])\n",
    "            y7 = draw(p7_8[tempNum,:,y8])\n",
    "            y6 = draw(p6_7[tempNum,:,y7])\n",
    "            y5 = draw(p5_6[tempNum,:,y6])\n",
    "            y4 = draw(p4_5[tempNum,:,y5])\n",
    "            y3 = draw(p3_4[tempNum,:,y4])\n",
    "            y2 = draw(p2_3[tempNum,:,y3])\n",
    "            y1 = draw(p1_2[tempNum,:,y2])\n",
    "        \n",
    "            y = np.array((y2row(y1), y2row(y2), y2row(y3), y2row(y4),\n",
    "                          y2row(y5), y2row(y6), y2row(y7), y2row(y8)))\n",
    "        \n",
    "            samples[tempNum, fig_num] = y\n",
    "    return samples"
   ]
  },
  {
   "cell_type": "markdown",
   "metadata": {},
   "source": [
    "## Plotting the images"
   ]
  },
  {
   "cell_type": "code",
   "execution_count": 16,
   "metadata": {},
   "outputs": [],
   "source": [
    "from matplotlib import pyplot as plt\n",
    "plt.show()"
   ]
  },
  {
   "cell_type": "code",
   "execution_count": 17,
   "metadata": {},
   "outputs": [
    {
     "data": {
      "image/png": "[encoded data removed]",
      "text/plain": [
       "<matplotlib.figure.Figure at 0x235ce771208>"
      ]
     },
     "metadata": {},
     "output_type": "display_data"
    }
   ],
   "source": [
    "number_of_tempratures = 3\n",
    "number_of_figures_for_each_temp = 10\n",
    "n = 8\n",
    "samples = sample(number_of_tempratures=number_of_tempratures,\n",
    "                number_of_figures_for_each_temp=number_of_figures_for_each_temp,\n",
    "                n=n)\n",
    "\n",
    "plt.figure(figsize=(35, 10))\n",
    "\n",
    "for tempNum,Temp in enumerate(temperatures[:number_of_tempratures]):\n",
    "    for fig_num in np.arange(number_of_figures_for_each_temp):\n",
    "\n",
    "        plt.subplot (number_of_tempratures, number_of_figures_for_each_temp, \n",
    "             number_of_figures_for_each_temp*tempNum+fig_num+1)\n",
    "        if fig_num==0:\n",
    "            plt.text(-24,4,\"Temperature: {}\".format(Temp), fontsize=50)\n",
    "        \n",
    "        plt.axis('Off')\n",
    "        plt.imshow(samples[tempNum, fig_num],interpolation=\"None\",vmin=-1, vmax=1)\n",
    "\n",
    "plt.savefig('computerExercise7.jpg',bbox_inches='tight')\n",
    "\n",
    "plt.show()"
   ]
  },
  {
   "cell_type": "markdown",
   "metadata": {},
   "source": [
    "# Computer Exercise 8"
   ]
  },
  {
   "cell_type": "code",
   "execution_count": 18,
   "metadata": {},
   "outputs": [],
   "source": [
    "def expectation(samples,number_of_figures_for_each_temp, a,b,c,d):\n",
    "    return (np.sum(samples[tempNum,:,a-1,b-1]*samples[tempNum,:,c-1,d-1])\n",
    "                        /number_of_figures_for_each_temp)"
   ]
  },
  {
   "cell_type": "code",
   "execution_count": 19,
   "metadata": {},
   "outputs": [],
   "source": [
    "number_of_tempratures=3\n",
    "number_of_figures_for_each_temp=10000\n",
    "n = 8\n",
    "samples = sample(number_of_tempratures = number_of_tempratures,\n",
    "                number_of_figures_for_each_temp=number_of_figures_for_each_temp,\n",
    "                n=n)\n",
    "exptn = np.empty((number_of_tempratures, 2))\n",
    "for tempNum,Temp in enumerate(temperatures[:number_of_tempratures]):\n",
    "    exptn[tempNum,0] = (np.sum(samples[tempNum,:,0,0]*samples[tempNum,:,1,1])\n",
    "                        /number_of_figures_for_each_temp)\n",
    "    exptn[tempNum,1] = (np.sum(samples[tempNum,:,0,0]*samples[tempNum,:,7,7])\n",
    "                        /number_of_figures_for_each_temp)"
   ]
  },
  {
   "cell_type": "code",
   "execution_count": 20,
   "metadata": {},
   "outputs": [
    {
     "name": "stdout",
     "output_type": "stream",
     "text": [
      "Temperature\tE_Temp (X_(1,1), X_(2,2))\tE_Temp (X_(1,1), X_(8,8))     \n",
      "1\t\t0.9516\t\t\t\t0.9038     \n",
      "1.5\t\t0.767\t\t\t\t0.5604     \n",
      "2\t\t0.502\t\t\t\t0.1446\n"
     ]
    }
   ],
   "source": [
    "print('Temperature\\tE_Temp (X_(1,1), X_(2,2))\\tE_Temp (X_(1,1), X_(8,8))\\\n",
    "     \\n1\\t\\t{}\\t\\t\\t\\t{}\\\n",
    "     \\n1.5\\t\\t{}\\t\\t\\t\\t{}\\\n",
    "     \\n2\\t\\t{}\\t\\t\\t\\t{}'.format(exptn[0,0], exptn[0,1],\n",
    "                                exptn[1,0], exptn[1,1],\n",
    "                                exptn[2,0], exptn[2,1]))"
   ]
  }
 ],
 "metadata": {
  "kernelspec": {
   "display_name": "Python 3",
   "language": "python",
   "name": "python3"
  },
  "language_info": {
   "codemirror_mode": {
    "name": "ipython",
    "version": 3
   },
   "file_extension": ".py",
   "mimetype": "text/x-python",
   "name": "python",
   "nbconvert_exporter": "python",
   "pygments_lexer": "ipython3",
   "version": "3.6.4"
  }
 },
 "nbformat": 4,
 "nbformat_minor": 2
}
